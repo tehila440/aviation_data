{
 "cells": [
  {
   "cell_type": "code",
   "execution_count": 2,
   "metadata": {},
   "outputs": [
    {
     "name": "stdout",
     "output_type": "stream",
     "text": [
      "Data for LAX94LA336: \n",
      " [['20001218X45447', 'Accident', 'LAX94LA336', '07/19/1962', 'BRIDGEPORT, CA', 'United States', '', '', '', '', 'Fatal(4)', 'Destroyed', '', 'N5069P', 'PIPER', 'PA24-180', 'No', '1', 'Reciprocating', '', '', 'Personal', '', '4', '0', '0', '0', 'UNK', 'UNKNOWN', 'Probable Cause', '09/19/1996', '']] \n",
      " ------------------------- \n",
      "\n",
      "Data for LAX94LA336: \n",
      " [['20001218X45447', 'Accident', 'LAX94LA336', '07/19/1962', 'BRIDGEPORT, CA', 'United States', '', '', '', '', 'Fatal(4)', 'Destroyed', '', 'N5069P', 'PIPER', 'PA24-180', 'No', '1', 'Reciprocating', '', '', 'Personal', '', '4', '0', '0', '0', 'UNK', 'UNKNOWN', 'Probable Cause', '09/19/1996', '']] \n",
      " ------------------------- \n",
      "\n",
      "Data for LAX94LA336 using dictionary search: \n",
      " [{'Event Id': '20001218X45447', 'Investigation Type': 'Accident', 'Accident Number': 'LAX94LA336', 'Event Date': '07/19/1962', 'Location': 'BRIDGEPORT, CA', 'Country': 'United States', 'Latitude': '', 'Longitude': '', 'Airport Code': '', 'Airport Name': '', 'Injury Severity': 'Fatal(4)', 'Aircraft Damage': 'Destroyed', 'Aircraft Category': '', 'Registration Number': 'N5069P', 'Make': 'PIPER', 'Model': 'PA24-180', 'Amateur Built': 'No', 'Number of Engines': '1', 'Engine Type': 'Reciprocating', 'FAR Description': '', 'Schedule': '', 'Purpose of Flight': 'Personal', 'Air Carrier': '', 'Total Fatal Injuries': '4', 'Total Serious Injuries': '0', 'Total Minor Injuries': '0', 'Total Uninjured': '0', 'Weather Condition': 'UNK', 'Broad Phase of Flight': 'UNKNOWN', 'Report Status': 'Probable Cause', 'Publication Date': '09/19/1996', '': ''}] \n",
      " ------------------------- \n",
      "\n",
      "Top three states with the most accidents: \n",
      " ------------------------- \n",
      " [('CA', 8030), ('FL', 5118), ('TX', 5112)] \n",
      " ------------------------- \n",
      "\n",
      "Top five months with highest total injuries \n",
      " ------------------------- \n",
      "\n",
      "    month_year  total_serious  total_fatal  total_injuries\n",
      "226    11/1996             82          940            1022\n",
      "121    08/2005            113          447             560\n",
      "75     06/2009             32          439             471\n",
      "14     07/2014             43          426             469\n",
      "235    02/1996             29          394             423\n",
      "The top three Air Carriers with the most accidents are: \n",
      " [('united airlines', 60), ('american airlines', 50), ('delta air lines inc', 26)] \n",
      " ------------------------- \n",
      "\n",
      "The top three airplane makes with the most accidents are: \n",
      " [('cessna', 24350), ('piper', 13279), ('beech', 4779)] \n",
      " ------------------------- \n",
      "\n",
      "The top three airplane make_model with the most accidents are: \n",
      " [('cessna_152', 2250), ('cessna_172', 1164), ('cessna_172n', 1121)] \n",
      " ------------------------- \n",
      "\n",
      "There were 68799 VMC, sufficient visibility, accidents or 89.02% \n",
      "\n",
      "There were 5580 IMC, cloudy or bad weather, accidents or 7.22% \n",
      "\n",
      "There were 2903 accidents with unknown weather conditions reported or 3.76% \n",
      "\n"
     ]
    }
   ],
   "source": [
    "\n",
    "#read in txt file and split on '|', note the space before and after the '|'\n",
    "\n",
    "f = open(\"AviationData.txt\", \"r\")\n",
    "reader = f.read()\n",
    "aviation_data = reader.split(\"\\n\")\n",
    "aviation_list = [row.split(\" | \") for row in aviation_data]\n",
    "\n",
    "#playing with different search loops using code below as the search value\n",
    "code = 'LAX94LA336'\n",
    "\n",
    "#loop through each row and column for `code`.  This is O(n^2)\n",
    "lax_code =[]\n",
    "for i in range(len(aviation_list)):\n",
    "    for j in range(len(aviation_list[i])):\n",
    "        if aviation_list[i][j] == code:\n",
    "            lax_code.append(aviation_list[i])\n",
    "\n",
    "print('Data for {}:'.format(code),'\\n',lax_code,'\\n',25*'-','\\n')\n",
    "\n",
    "#perform linear search O(n)\n",
    "lax_code2 = []\n",
    "for row in aviation_list:\n",
    "    for value in row:\n",
    "        if value == code:\n",
    "            lax_code2.append(row)\n",
    "\n",
    "print('Data for {}:'.format(code),'\\n',lax_code2,'\\n',25*'-','\\n')\n",
    "\n",
    "#create dictionary where key is the column name and value is the columns values\n",
    "aviation_dict_list = []\n",
    "column_names = aviation_data[0].split(' | ')\n",
    "aviation_data2 = aviation_data[1:]\n",
    "\n",
    "for row in aviation_data2:\n",
    "    split = row.split(' | ')\n",
    "    dict = {}\n",
    "    for i in range(len(split)):\n",
    "        dict[column_names[i]] = split[i]\n",
    "    aviation_dict_list.append((dict))\n",
    "\n",
    "#search dictionary for code like about searches\n",
    "lax_dict = []\n",
    "for d in aviation_dict_list:\n",
    "    if code in d.values():\n",
    "        lax_dict.append(d)\n",
    "\n",
    "print('Data for {} using dictionary search:'.format(code),'\\n',lax_dict,'\\n',25*'-','\\n')\n",
    "\n",
    "#count accidents by state and print top 3 states\n",
    "from collections import Counter\n",
    "import pandas as pd\n",
    "pd.options.display.max_rows=100\n",
    "\n",
    "aviation_df = pd.DataFrame(aviation_list[1:],columns=aviation_list[0])\n",
    "aviation_df.fillna('0',inplace=True)\n",
    "#create df for United States\n",
    "aviation_us = aviation_df[aviation_df.Country == 'United States'].copy()\n",
    "aviation_us['Location']=aviation_us['Location'].str.split()\n",
    "aviation_us['Location']=aviation_us['Location'].str[-1]\n",
    "counts = Counter(aviation_us['Location'])\n",
    "\n",
    "print('Top three states with the most accidents:','\\n',25*'-','\\n',counts.most_common(3),'\\n',25*'-','\\n')\n",
    "\n",
    "#Split date and keep only month and year MM/YYYY\n",
    "aviation_df['Event Date'] = aviation_df['Event Date'].str.split('/').str[0] + '/' + aviation_df['Event Date'].str.split('/').str[-1]\n",
    "\n",
    "#loop through unique months and calc serious, fatal, total injuries for each month\n",
    "month_year = aviation_df['Event Date'].unique()\n",
    "monthly_injuries = pd.DataFrame()\n",
    "serious_tot = []\n",
    "fatal_tot = []\n",
    "\n",
    "\n",
    "#convert to integer\n",
    "cols = ['Total Serious Injuries','Total Fatal Injuries']\n",
    "for col in cols:\n",
    "    aviation_df[col].replace({'':'0'},inplace=True)\n",
    "    aviation_df[col]=aviation_df[col].astype('int')\n",
    "\n",
    "for my in month_year:\n",
    "    df = aviation_df[aviation_df['Event Date'] == my]\n",
    "    serious = df['Total Serious Injuries'].sum()\n",
    "    fatal = df['Total Fatal Injuries'].sum()\n",
    "    serious_tot.append((serious))\n",
    "    fatal_tot.append(fatal)\n",
    "monthly_injuries['month_year'] = month_year\n",
    "monthly_injuries['total_serious'] = serious_tot\n",
    "monthly_injuries['total_fatal'] = fatal_tot\n",
    "monthly_injuries['total_injuries'] = monthly_injuries['total_serious'] + monthly_injuries['total_fatal']\n",
    "\n",
    "print('Top five months with highest total injuries','\\n',25*'-','\\n')\n",
    "print(monthly_injuries.sort_values(by='total_injuries',ascending=False).head())\n",
    "\n",
    "#Count the number of accidents by air carrier.\n",
    "df_carrier = aviation_df[aviation_df['Air Carrier']!=''].copy()\n",
    "df_carrier['Air Carrier'] = df_carrier['Air Carrier'].str.lower()\n",
    "counts_air = Counter(df_carrier['Air Carrier'])\n",
    "print(\"The top three Air Carriers with the most accidents are:\", '\\n', counts_air.most_common(3),'\\n',25*'-','\\n')\n",
    "\n",
    "#Count the number of accidents by airplane make and model\n",
    "aviation_df['Make'] = aviation_df['Make'].str.lower()\n",
    "aviation_df['Model'] = aviation_df['Model'].str.lower()\n",
    "aviation_df['make_model'] = aviation_df['Make'] + '_' + aviation_df['Model']\n",
    "counts_make = Counter(aviation_df['Make'])\n",
    "counts_make_model = Counter(aviation_df['make_model'])\n",
    "print(\"The top three airplane makes with the most accidents are:\", '\\n', counts_make.most_common(3),'\\n',25*'-','\\n')\n",
    "print(\"The top three airplane make_model with the most accidents are:\", '\\n', counts_make_model.most_common(3),'\\n',25*'-','\\n')\n",
    "\n",
    "#Figure out what percentage of accidents occur under adverse weather conditions\n",
    "vmc = len(aviation_df[aviation_df['Weather Condition'] == 'VMC'])\n",
    "imc = len(aviation_df[aviation_df['Weather Condition'] == 'IMC'])\n",
    "tot = len(aviation_df['Weather Condition'])\n",
    "unk = tot - imc -vmc\n",
    "print('There were {} VMC, sufficient visibility, accidents or {:.2f}%'.format(vmc, (vmc/tot)*100),'\\n')\n",
    "print('There were {} IMC, cloudy or bad weather, accidents or {:.2f}%'.format(imc,(imc/tot)*100),'\\n')\n",
    "print('There were {} accidents with unknown weather conditions reported or {:.2f}%'.format(unk,(unk/tot)*100),'\\n')"
   ]
  },
  {
   "cell_type": "code",
   "execution_count": 42,
   "metadata": {},
   "outputs": [
    {
     "data": {
      "text/html": [
       "<div>\n",
       "<style scoped>\n",
       "    .dataframe tbody tr th:only-of-type {\n",
       "        vertical-align: middle;\n",
       "    }\n",
       "\n",
       "    .dataframe tbody tr th {\n",
       "        vertical-align: top;\n",
       "    }\n",
       "\n",
       "    .dataframe thead th {\n",
       "        text-align: right;\n",
       "    }\n",
       "</style>\n",
       "<table border=\"1\" class=\"dataframe\">\n",
       "  <thead>\n",
       "    <tr style=\"text-align: right;\">\n",
       "      <th></th>\n",
       "      <th>0</th>\n",
       "    </tr>\n",
       "  </thead>\n",
       "  <tbody>\n",
       "    <tr>\n",
       "      <td>IL</td>\n",
       "      <td>1874</td>\n",
       "    </tr>\n",
       "    <tr>\n",
       "      <td>NH</td>\n",
       "      <td>326</td>\n",
       "    </tr>\n",
       "    <tr>\n",
       "      <td>SD</td>\n",
       "      <td>393</td>\n",
       "    </tr>\n",
       "    <tr>\n",
       "      <td>CA</td>\n",
       "      <td>8030</td>\n",
       "    </tr>\n",
       "    <tr>\n",
       "      <td>NJ</td>\n",
       "      <td>1068</td>\n",
       "    </tr>\n",
       "  </tbody>\n",
       "</table>\n",
       "</div>"
      ],
      "text/plain": [
       "       0\n",
       "IL  1874\n",
       "NH   326\n",
       "SD   393\n",
       "CA  8030\n",
       "NJ  1068"
      ]
     },
     "execution_count": 42,
     "metadata": {},
     "output_type": "execute_result"
    }
   ],
   "source": [
    "counts_us = Counter(aviation_us['Location'])\n",
    "counts_us_df=pd.DataFrame.from_dict(counts_us,orient = 'index')\n",
    "counts_us_df.head()"
   ]
  },
  {
   "cell_type": "code",
   "execution_count": 40,
   "metadata": {},
   "outputs": [
    {
     "data": {
      "text/plain": [
       "0"
      ]
     },
     "execution_count": 40,
     "metadata": {},
     "output_type": "execute_result"
    }
   ],
   "source": [
    "aviation_us['Location'].isnull().sum()\n",
    "aviation_us['Location'].dropna(inplace=True)"
   ]
  },
  {
   "cell_type": "code",
   "execution_count": 64,
   "metadata": {},
   "outputs": [],
   "source": [
    "counts_us_df.rename(columns={'0':'col'},inplace=True)\n",
    "top_5_states = counts_us_df.sort_values(by=0, ascending=False).head()"
   ]
  },
  {
   "cell_type": "code",
   "execution_count": 65,
   "metadata": {},
   "outputs": [
    {
     "data": {
      "text/plain": [
       "<matplotlib.axes._subplots.AxesSubplot at 0x12c0d5e50>"
      ]
     },
     "execution_count": 65,
     "metadata": {},
     "output_type": "execute_result"
    },
    {
     "data": {
      "image/png": "[encoded data removed]",
      "text/plain": [
       "<Figure size 432x288 with 1 Axes>"
      ]
     },
     "metadata": {
      "needs_background": "light"
     },
     "output_type": "display_data"
    }
   ],
   "source": [
    "top_5_states.plot()"
   ]
  },
  {
   "cell_type": "code",
   "execution_count": null,
   "metadata": {},
   "outputs": [],
   "source": []
  }
 ],
 "metadata": {
  "kernelspec": {
   "display_name": "Python 3",
   "language": "python",
   "name": "python3"
  },
  "language_info": {
   "codemirror_mode": {
    "name": "ipython",
    "version": 3
   },
   "file_extension": ".py",
   "mimetype": "text/x-python",
   "name": "python",
   "nbconvert_exporter": "python",
   "pygments_lexer": "ipython3",
   "version": "3.7.4"
  }
 },
 "nbformat": 4,
 "nbformat_minor": 2
}
